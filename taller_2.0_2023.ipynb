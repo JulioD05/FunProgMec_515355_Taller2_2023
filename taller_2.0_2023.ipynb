{
 "cells": [
  {
   "cell_type": "markdown",
   "id": "50470083",
   "metadata": {},
   "source": [
    "# - Solución 2\n",
    "# - Fund.Prog.Ing.Mec.UPB 2023\n",
    "# - Julio Ernesto Vasquez Dueñas\n",
    "# - ID = 000515355\n",
    "# - julio.vasquez@upb.edu.co"
   ]
  },
  {
   "cell_type": "code",
   "execution_count": 1,
   "id": "5f008d66",
   "metadata": {},
   "outputs": [
    {
     "name": "stdout",
     "output_type": "stream",
     "text": [
      "posición de la particula en el primer instante, es:  8.0\n"
     ]
    }
   ],
   "source": [
    "# Posición de la partícula en un tiempo t_1 = 3\n",
    "v = 4\n",
    "p = 5\n",
    "a = -2\n",
    "t = 3\n",
    "y = float(t)**2\n",
    "j = float(v)*float(t)\n",
    "m = float(a)*float(y)*1/2\n",
    "x = float(p) + float(j) + float(m)\n",
    "print(\"posición de la particula en el primer instante, es: \" , x)"
   ]
  },
  {
   "cell_type": "code",
   "execution_count": 2,
   "id": "4a0a3e99",
   "metadata": {},
   "outputs": [
    {
     "name": "stdout",
     "output_type": "stream",
     "text": [
      "posición de la particula en el segundo instante, es:  -55.0\n"
     ]
    }
   ],
   "source": [
    "#  posición de la partícula en un tiempo t_2 = 10\n",
    "v = 4\n",
    "p = 5\n",
    "a = -2\n",
    "t = 10\n",
    "y = float(t)**2\n",
    "j = float(v)*float(t)\n",
    "m = float(a)*float(y)*1/2\n",
    "x = float(p) + float(j) + float(m)\n",
    "print(\"posición de la particula en el segundo instante, es: \" , x)"
   ]
  },
  {
   "cell_type": "code",
   "execution_count": 3,
   "id": "b19ad269",
   "metadata": {},
   "outputs": [
    {
     "name": "stdout",
     "output_type": "stream",
     "text": [
      "la distancia entre los dos puntos P1 y P2 es de: 2.8284271247461903 mm\n"
     ]
    }
   ],
   "source": [
    "#  Distancia entre los puntos (1, 1) y (-1, -1)\n",
    "\n",
    "x1 = 1\n",
    "x2 = -1\n",
    "y1 = 1\n",
    "y2 = -1\n",
    "\n",
    "h = float(x2) - float(x1)\n",
    "j = float(y2) - float(y1)\n",
    "k = float(h)**2 + float(j)**2\n",
    "\n",
    "d = k \n",
    "\n",
    "import math \n",
    "print(\"la distancia entre los dos puntos P1 y P2 es de:\" , math.sqrt(float(d)) , \"mm\")"
   ]
  },
  {
   "cell_type": "code",
   "execution_count": 4,
   "id": "f651bb58",
   "metadata": {},
   "outputs": [
    {
     "name": "stdout",
     "output_type": "stream",
     "text": [
      "la distancia entre los dos puntos P1 y P2 es de: 2.8284271247461903 mm\n"
     ]
    }
   ],
   "source": [
    "# Distancia entre los puntos (-2, 0) y (4, 5)\n",
    "\n",
    "x1 = -2\n",
    "x2 = 4\n",
    "y1 = 0\n",
    "y2 = 5\n",
    "d = k\n",
    "\n",
    "h = float(x2) - float(x1)\n",
    "j = float(y2) - float(y1)\n",
    "k = float(h)**2 + float(j)**2\n",
    "\n",
    "if k > 0: \n",
    "    import math \n",
    "print(\"la distancia entre los dos puntos P1 y P2 es de:\" , math.sqrt(float(d)) , \"mm\")\n"
   ]
  },
  {
   "cell_type": "code",
   "execution_count": 5,
   "id": "0bc9b1a1",
   "metadata": {},
   "outputs": [
    {
     "name": "stdout",
     "output_type": "stream",
     "text": [
      "True\n",
      "False\n",
      "True\n",
      "True\n",
      "True\n",
      "False\n",
      "True\n",
      "True\n",
      "True\n",
      "False\n"
     ]
    }
   ],
   "source": [
    "# Imprime el resultado de las siguientes operaciones lógicas:\n",
    "a = -3\n",
    "b = 3\n",
    "c = 4\n",
    "d = 0\n",
    "print(a <= b)\n",
    "print(b > c)\n",
    "print(a != c or d > a)\n",
    "print(b < c or b > a)\n",
    "print(a != d)\n",
    "print(a - d > c )\n",
    "print(d + c >= a * b)\n",
    "print(a * c == 10 or b * a < 3)\n",
    "print(b * c + d > d * 5)\n",
    "print(2 * a == -1 * float(d) * 4)\n"
   ]
  },
  {
   "cell_type": "code",
   "execution_count": null,
   "id": "123077c5",
   "metadata": {},
   "outputs": [],
   "source": []
  }
 ],
 "metadata": {
  "kernelspec": {
   "display_name": "Python 3 (ipykernel)",
   "language": "python",
   "name": "python3"
  },
  "language_info": {
   "codemirror_mode": {
    "name": "ipython",
    "version": 3
   },
   "file_extension": ".py",
   "mimetype": "text/x-python",
   "name": "python",
   "nbconvert_exporter": "python",
   "pygments_lexer": "ipython3",
   "version": "3.11.2"
  }
 },
 "nbformat": 4,
 "nbformat_minor": 5
}
