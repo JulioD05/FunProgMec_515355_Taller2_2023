{
 "cells": [
  {
   "cell_type": "markdown",
   "id": "50470083",
   "metadata": {},
   "source": [
    "# - Solución 2\n",
    "# - Fund.Prog.Ing.Mec.UPB 2023\n",
    "# - Julio Ernesto Vasquez Dueñas\n",
    "# - ID = 000515355\n",
    "# - julio.vasquez@upb.edu.co"
   ]
  },
  {
   "cell_type": "code",
   "execution_count": 5,
   "id": "68e79a30",
   "metadata": {},
   "outputs": [
    {
     "name": "stdout",
     "output_type": "stream",
     "text": [
      " velocidad de la particula: 4\n",
      " posición de la particula: 5\n",
      " aceleración de la particula: -2\n",
      " tiempo de la particula: 3\n",
      "posición de la particula en el segundo instante, es:  8.0\n"
     ]
    }
   ],
   "source": [
    "# Posición de la partícula en un tiempo t_1 = 3\n",
    "v = int(input(\" velocidad de la particula: \"))\n",
    "p = int(input(\" posición de la particula: \"))\n",
    "a = int(input(\" aceleración de la particula: \"))\n",
    "t = int(input(\" tiempo de la particula: \"))\n",
    "y = float(t)**2\n",
    "j = float(v)*float(t)\n",
    "m = float(a)*float(y)*1/2\n",
    "x = float(p) + float(j) + float(m)\n",
    "print(\"posición de la particula en el segundo instante, es: \" , x)"
   ]
  },
  {
   "cell_type": "code",
   "execution_count": 6,
   "id": "4a0a3e99",
   "metadata": {},
   "outputs": [
    {
     "name": "stdout",
     "output_type": "stream",
     "text": [
      " velocidad de la particula: 4\n",
      " posición de la particula: 5\n",
      " aceleración de la particula: -2\n",
      " tiempo de la particula: 10\n",
      "posición de la particula en el segundo instante, es:  -55.0\n"
     ]
    }
   ],
   "source": [
    "#  posición de la partícula en un tiempo t_2 = 10\n",
    "v = int(input(\" velocidad de la particula: \"))\n",
    "p = int(input(\" posición de la particula: \"))\n",
    "a = int(input(\" aceleración de la particula: \"))\n",
    "t = int(input(\" tiempo de la particula: \"))\n",
    "y = float(t)**2\n",
    "j = float(v)*float(t)\n",
    "m = float(a)*float(y)*1/2\n",
    "x = float(p) + float(j) + float(m)\n",
    "print(\"posición de la particula en el segundo instante, es: \" , x)"
   ]
  },
  {
   "cell_type": "code",
   "execution_count": 7,
   "id": "b19ad269",
   "metadata": {},
   "outputs": [
    {
     "name": "stdout",
     "output_type": "stream",
     "text": [
      "ingrese x_1: 1\n",
      "ingrese x_2: -1\n",
      "ingrese y_1: 1\n",
      "ingrese y_2: -1\n",
      "la distancia entre los dos puntos P1 y P2 es de: 2.8284271247461903 mm\n"
     ]
    }
   ],
   "source": [
    "#  Distancia entre los puntos (1, 1) y (-1, -1)\n",
    "\n",
    "x1 = int(input(\"ingrese x_1: \"))\n",
    "x2 = int(input(\"ingrese x_2: \"))\n",
    "y1 = int(input(\"ingrese y_1: \"))\n",
    "y2 = int(input(\"ingrese y_2: \"))\n",
    "\n",
    "h = float(x2) - float(x1)\n",
    "j = float(y2) - float(y1)\n",
    "k = float(h)**2 + float(j)**2\n",
    "\n",
    "d = k \n",
    "\n",
    "import math \n",
    "print(\"la distancia entre los dos puntos P1 y P2 es de:\" , math.sqrt(float(d)) , \"mm\")"
   ]
  },
  {
   "cell_type": "code",
   "execution_count": 8,
   "id": "f651bb58",
   "metadata": {},
   "outputs": [
    {
     "name": "stdout",
     "output_type": "stream",
     "text": [
      "ingrese x_1: -2\n",
      "ingrese x_2: 4\n",
      "ingrese y_1: 0\n",
      "ingrese y_2: 5\n",
      "la distancia entre los dos puntos P1 y P2 es de: 7.810249675906654 mm\n"
     ]
    }
   ],
   "source": [
    "# Distancia entre los puntos (-2, 0) y (4, 5)\n",
    "\n",
    "x1 = int(input(\"ingrese x_1: \"))\n",
    "x2 = int(input(\"ingrese x_2: \"))\n",
    "y1 = int(input(\"ingrese y_1: \"))\n",
    "y2 = int(input(\"ingrese y_2: \"))\n",
    "\n",
    "\n",
    "\n",
    "h = float(x2) - float(x1)\n",
    "j = float(y2) - float(y1)\n",
    "k = float(h)**2 + float(j)**2\n",
    "d = k\n",
    "if k > 0: \n",
    "    import math \n",
    "print(\"la distancia entre los dos puntos P1 y P2 es de:\" , math.sqrt(float(d)) , \"mm\")\n"
   ]
  },
  {
   "cell_type": "code",
   "execution_count": 9,
   "id": "0bc9b1a1",
   "metadata": {},
   "outputs": [
    {
     "name": "stdout",
     "output_type": "stream",
     "text": [
      "True\n",
      "False\n",
      "True\n",
      "True\n",
      "True\n",
      "False\n",
      "True\n",
      "True\n",
      "True\n",
      "False\n"
     ]
    }
   ],
   "source": [
    "# Imprime el resultado de las siguientes operaciones lógicas:\n",
    "a = -3\n",
    "b = 3\n",
    "c = 4\n",
    "d = 0\n",
    "print(a <= b)\n",
    "print(b > c)\n",
    "print(a != c and d > a)\n",
    "print(b < c or b > a)\n",
    "print(a != d)\n",
    "print(a - d > c )\n",
    "print(d + c >= a * b)\n",
    "print(a * c == 10 or b * a < 3)\n",
    "print(b * c + d > d * 5)\n",
    "print(2 * a == -1 * float(d) * 4)\n"
   ]
  },
  {
   "cell_type": "code",
   "execution_count": null,
   "id": "123077c5",
   "metadata": {},
   "outputs": [],
   "source": []
  },
  {
   "cell_type": "code",
   "execution_count": null,
   "id": "eb495dd9",
   "metadata": {},
   "outputs": [],
   "source": []
  }
 ],
 "metadata": {
  "kernelspec": {
   "display_name": "Python 3 (ipykernel)",
   "language": "python",
   "name": "python3"
  },
  "language_info": {
   "codemirror_mode": {
    "name": "ipython",
    "version": 3
   },
   "file_extension": ".py",
   "mimetype": "text/x-python",
   "name": "python",
   "nbconvert_exporter": "python",
   "pygments_lexer": "ipython3",
   "version": "3.11.2"
  }
 },
 "nbformat": 4,
 "nbformat_minor": 5
}
